{
  "nbformat": 4,
  "nbformat_minor": 0,
  "metadata": {
    "colab": {
      "name": "Fahed & Gonzalez Final Lab Project Analysis",
      "provenance": [],
      "collapsed_sections": [],
      "include_colab_link": true
    },
    "kernelspec": {
      "name": "python3",
      "display_name": "Python 3"
    }
  },
  "cells": [
    {
      "cell_type": "markdown",
      "metadata": {
        "id": "view-in-github",
        "colab_type": "text"
      },
      "source": [
        "<a href=\"https://colab.research.google.com/github/tiffany-rgb/ps2labproject/blob/main/Fahed_%26_Gonzalez_Final_Lab_Project_Analysis.ipynb\" target=\"_parent\"><img src=\"https://colab.research.google.com/assets/colab-badge.svg\" alt=\"Open In Colab\"/></a>"
      ]
    },
    {
      "cell_type": "markdown",
      "metadata": {
        "id": "operciofhTR0"
      },
      "source": [
        "# Remember to Save a Copy in Drive"
      ]
    },
    {
      "cell_type": "code",
      "metadata": {
        "id": "hf3VbqJCAsMs"
      },
      "source": [
        "import numpy as np\n",
        "import matplotlib.pyplot as plt\n",
        "import scipy.stats"
      ],
      "execution_count": 2,
      "outputs": []
    },
    {
      "cell_type": "markdown",
      "metadata": {
        "id": "0wy1YhBR8goM"
      },
      "source": [
        "#Part 1: Working with our blood pressure data\n"
      ]
    },
    {
      "cell_type": "code",
      "metadata": {
        "id": "_Z2bhla__F-0"
      },
      "source": [
        "#Tiffany's Before & After Meal Systolic and Diastolic Blood Pressures\n",
        "url_tbsbp = \"https://raw.githubusercontent.com/tiffany-rgb/ps2labproject/main/PS2%20Lab%20Project%20Data%20-%20Tiffany%20Before%20Systolic.csv\"\n",
        "tiffany_beforesystolic = np.loadtxt(url_tbsbp)\n",
        "\n",
        "url_tasbp = \"https://raw.githubusercontent.com/tiffany-rgb/ps2labproject/main/PS2%20Lab%20Project%20Data%20-%20Tiffany%20After%20Systolic.csv\"\n",
        "tiffany_aftersystolic = np.loadtxt(url_tasbp)\n",
        "\n",
        "url_tbdbp = \"https://raw.githubusercontent.com/tiffany-rgb/ps2labproject/main/PS2%20Lab%20Project%20Data%20-%20Tiffany%20Before%20Diastolic%20.csv\"\n",
        "tiffany_beforediastolic = np.loadtxt(url_tbdbp)\n",
        "\n",
        "url_tadbp = \"https://raw.githubusercontent.com/tiffany-rgb/ps2labproject/main/PS2%20Lab%20Project%20Data%20-%20Tiffany%20After%20Diastolic.csv\"\n",
        "tiffany_afterdiastolic = np.loadtxt(url_tadbp)\n",
        "\n",
        "#Fahed's Before & After Meal Sytolic and Diastolic Blood Pressures\n",
        "url_fbsbp = \"https://raw.githubusercontent.com/tiffany-rgb/ps2labproject/main/PS2%20Lab%20Project%20Data%20-%20Fahed%20Before%20Systolic.csv\"\n",
        "fahed_beforesystolic = np.loadtxt(url_fbsbp)\n",
        "\n",
        "url_fasbp = \"https://raw.githubusercontent.com/tiffany-rgb/ps2labproject/main/PS2%20Lab%20Project%20Data%20-%20Fahed%20Before%20Diastolic.csv\"\n",
        "fahed_aftersystolic = np.loadtxt(url_fasbp)\n",
        "\n",
        "url_fbdbp = \"https://raw.githubusercontent.com/tiffany-rgb/ps2labproject/main/PS2%20Lab%20Project%20Data%20-%20Fahed%20After%20Systolic.csv\"\n",
        "fahed_beforediastolic = np.loadtxt(url_fbdbp)\n",
        "\n",
        "url_fadbp = \"https://raw.githubusercontent.com/tiffany-rgb/ps2labproject/main/PS2%20Lab%20Project%20Data%20-%20Fahed%20After%20Diastolic.csv\"\n",
        "fahed_afterdiastolic = np.loadtxt(url_fadbp)\n"
      ],
      "execution_count": 4,
      "outputs": []
    },
    {
      "cell_type": "markdown",
      "metadata": {
        "id": "4B1pkUhiM0k0"
      },
      "source": [
        "Tiffany's Blood Pressure Differences"
      ]
    },
    {
      "cell_type": "code",
      "metadata": {
        "id": "IvARW1qbLGDG",
        "colab": {
          "base_uri": "https://localhost:8080/",
          "height": 677
        },
        "outputId": "257efc72-ed78-4be5-a950-5ab665ea5b52"
      },
      "source": [
        "#Try it here!\n",
        "\n",
        "tiffanybeforesystolic=tiffany_beforesystolic\n",
        "tiffanybeforediastolic=tiffany_beforediastolic\n",
        "\n",
        "tiffanyaftersystolic=tiffany_aftersystolic\n",
        "tiffanyafterdiastolic=tiffany_afterdiastolic\n",
        "\n",
        "fig,ax = plt.subplots(4,figsize=(6,10)) \n",
        "rwidth=1\n",
        "\n",
        "tiffanybeforesystolicbins = np.arange (90, 120, 1) \n",
        "tiffanybeforediastolicbins = np.arange (55, 85, 1)\n",
        "\n",
        "tiffanyaftersystolicbins = np.arange (91, 119, 1) \n",
        "tiffanyafterdiastolicbins = np.arange (59, 83, 1)\n",
        "\n",
        "\n",
        "ax[0].hist(tiffanybeforesystolic,bins = tiffanybeforesystolicbins) \n",
        "\n",
        "ax[1].hist(tiffanybeforediastolic,bins = tiffanybeforediastolicbins)\n",
        "\n",
        "ax[2].hist(tiffanyaftersystolic,bins = tiffanyaftersystolicbins) \n",
        "\n",
        "ax[3].hist(tiffanyafterdiastolic,bins = tiffanyafterdiastolicbins)"
      ],
      "execution_count": null,
      "outputs": [
        {
          "output_type": "execute_result",
          "data": {
            "text/plain": [
              "(array([1., 0., 1., 2., 3., 1., 2., 0., 0., 1., 1., 2., 0., 2., 1., 1., 1.,\n",
              "        1., 1., 1., 0., 0., 0.]),\n",
              " array([59, 60, 61, 62, 63, 64, 65, 66, 67, 68, 69, 70, 71, 72, 73, 74, 75,\n",
              "        76, 77, 78, 79, 80, 81, 82]),\n",
              " <a list of 23 Patch objects>)"
            ]
          },
          "metadata": {
            "tags": []
          },
          "execution_count": 101
        },
        {
          "output_type": "display_data",
          "data": {
            "image/png": "[encoded data removed]",
            "text/plain": [
              "<Figure size 432x720 with 4 Axes>"
            ]
          },
          "metadata": {
            "tags": [],
            "needs_background": "light"
          }
        }
      ]
    },
    {
      "cell_type": "code",
      "metadata": {
        "colab": {
          "base_uri": "https://localhost:8080/",
          "height": 682
        },
        "id": "rsrJTbIv0zTM",
        "outputId": "33dbbbc3-fd08-4d19-81e6-2e0c35c70d0f"
      },
      "source": [
        "url_fbdbp = \"https://raw.githubusercontent.com/tiffany-rgb/ps2labproject/main/PS2%20Lab%20Project%20Data%20-%20Fahed%20After%20Systolic.csv\"\n",
        "fahed_beforediastolic = np.loadtxt(url_fbdbp)\n",
        "\n",
        "url_fasbp = \"https://raw.githubusercontent.com/tiffany-rgb/ps2labproject/main/PS2%20Lab%20Project%20Data%20-%20Fahed%20Before%20Diastolic.csv\"\n",
        "fahed_aftersystolic = np.loadtxt(url_fasbp)\n",
        "\n",
        "fahedbeforesystolic=fahed_beforesystolic\n",
        "fahedbeforediastolic=fahed_beforediastolic\n",
        "\n",
        "fahedaftersystolic=fahed_aftersystolic\n",
        "fahedafterdiastolic=fahed_afterdiastolic\n",
        "\n",
        "fig,ax = plt.subplots(4,figsize=(6,10)) \n",
        "rwidth=1\n",
        "\n",
        "fahedbeforesystolicbins = np.arange (108, 130, 1)\n",
        "fahedbeforediastolicbins = np.arange (60, 90, 1)\n",
        "\n",
        "fahedaftersystolicbins = np.arange (107, 129, 1)\n",
        "fahedafterdiastolicbins = np.arange (73, 93, 1)\n",
        "\n",
        "\n",
        "ax[0].hist(fahedbeforesystolic, bins = fahedbeforesystolicbins) \n",
        "\n",
        "ax[1].hist(fahedbeforediastolic, bins = fahedbeforediastolicbins)\n",
        "\n",
        "ax[2].hist(fahedaftersystolic, bins = fahedaftersystolicbins) \n",
        "\n",
        "ax[3].hist(fahedafterdiastolic, bins = fahedafterdiastolicbins)\n",
        "\n"
      ],
      "execution_count": 5,
      "outputs": [
        {
          "output_type": "execute_result",
          "data": {
            "text/plain": [
              "(array([1., 0., 0., 2., 1., 1., 0., 0., 3., 4., 3., 2., 3., 0., 2., 1., 1.,\n",
              "        0., 0.]),\n",
              " array([73, 74, 75, 76, 77, 78, 79, 80, 81, 82, 83, 84, 85, 86, 87, 88, 89,\n",
              "        90, 91, 92]),\n",
              " <a list of 19 Patch objects>)"
            ]
          },
          "metadata": {
            "tags": []
          },
          "execution_count": 5
        },
        {
          "output_type": "display_data",
          "data": {
            "image/png": "[encoded data removed]",
            "text/plain": [
              "<Figure size 432x720 with 4 Axes>"
            ]
          },
          "metadata": {
            "tags": [],
            "needs_background": "light"
          }
        }
      ]
    },
    {
      "cell_type": "code",
      "metadata": {
        "id": "JyoDIhUi04hY"
      },
      "source": [
        ""
      ],
      "execution_count": null,
      "outputs": []
    },
    {
      "cell_type": "markdown",
      "metadata": {
        "id": "fKyC53AZ6FnM"
      },
      "source": [
        "Tiffany's Systolic & Diastolic Blood Pressure: Mean, Standard Deviation, and Standard Error"
      ]
    },
    {
      "cell_type": "code",
      "metadata": {
        "id": "06GYvYox6NU7",
        "colab": {
          "base_uri": "https://localhost:8080/"
        },
        "outputId": "378012bd-001c-481e-b729-b7696aebca02"
      },
      "source": [
        "#Write your code here!\n",
        "\n",
        "meantiffanysystolicbefore = np.mean(tiffany_beforesystolic)\n",
        "\n",
        "meantiffanysystolicafter = np.mean(tiffany_aftersystolic)\n",
        "\n",
        "print(meantiffanysystolicbefore)\n",
        "\n",
        "\n",
        "\n"
      ],
      "execution_count": null,
      "outputs": [
        {
          "output_type": "stream",
          "text": [
            "110.78260869565217\n"
          ],
          "name": "stdout"
        }
      ]
    },
    {
      "cell_type": "markdown",
      "metadata": {
        "id": "ClMiFo2nB7TF"
      },
      "source": [
        "#Part 2: How likely is a fever?\n",
        "\n",
        "Your friend comes to you freaking out that they have a temperature of $100.5^{\\circ}F$. (A fever is defined as a body temperature greater than $100.4^{\\circ}F$.) Based on the class dataset, what's the probability that they could have a temperature of $100.5^{\\circ}F$ or greater and be healthy, assuming everyone in the class was healthy this week?\n",
        "\n",
        "## A few notes:\n",
        "\n",
        "You'll want to compute the significance test for this temperature versus the mean of your distribution:\n",
        "\n",
        "$$s.t. =  \\frac{|A-B|}{\\sqrt{\\sigma_A^2 + \\sigma_B^2}}$$\n",
        "\n",
        "(Here, assume the fever cut-off temperature is infinitely precise - that is, it has no associated error.)\n",
        "\n",
        "Then, you'll want to compute the p-value (that is, the probability of measuring this s.t. value by random chance. You can do this with the following code:\n",
        "\n",
        "`p_values = 2*scipy.stats.norm.sf(abs(st))`\n",
        "\n",
        "Where `st` is your $s.t.$ value above. Given this p value, how likely are you to register a fever purely by chance? Does this change during the day versus at night?"
      ]
    },
    {
      "cell_type": "code",
      "metadata": {
        "id": "nZ1pOpFLCE6j",
        "colab": {
          "base_uri": "https://localhost:8080/"
        },
        "outputId": "1bd5ee20-6f4a-4ccb-832b-deda44b4c4a2"
      },
      "source": [
        "#Try there!\n",
        "stday = (100.5-meanday)/(stdday)**2\n",
        "\n",
        "print (stday)\n",
        "\n",
        "stnight = (100.5-meannight)/(stdnight)**2,\n",
        "\n",
        "print (stnight)\n",
        "\n",
        "p_valuesday = 2*scipy.stats.norm.sf(abs(stday))\n",
        "\n",
        "print (p_valuesday)\n",
        "\n",
        "p_valuesnight = 2*scipy.stats.norm.sf(abs((100.5-meannight)/(stdnight)**2))\n",
        "\n",
        "print(p_valuesnight)"
      ],
      "execution_count": null,
      "outputs": [
        {
          "output_type": "stream",
          "text": [
            "4.42228196564168\n",
            "(4.35622252298795,)\n",
            "9.766388619924265e-06\n",
            "1.3232625385806817e-05\n"
          ],
          "name": "stdout"
        }
      ]
    },
    {
      "cell_type": "markdown",
      "metadata": {
        "id": "admpWS0e3fqo"
      },
      "source": [
        "The significance test value for day temperatures is 4.4223 and the significance test value for night temperatures is 4.3562. The p-value for both the day is 9.7664*10^-6 and the p-value for the night is 1.3233 and much smaller than the alpha of 0.05, so this means we reject null hypothes that the fever was purely by chance because this extremely unlikely. This conclusion is the same for the day and night."
      ]
    },
    {
      "cell_type": "markdown",
      "metadata": {
        "id": "ZJjf_7T33o6S"
      },
      "source": [
        "# Part 3: Evaluating Your Hypothesis\n",
        "\n",
        "At the start of the lab, you picked a hyothesis regarding the average human body temperature at night vs. during day, and placed a \"bet\" on how sure you were of your prediction. Now we can evaluate your hypothesis!\n"
      ]
    },
    {
      "cell_type": "markdown",
      "metadata": {
        "id": "8cCMZ4Nv_VvJ"
      },
      "source": [
        "Based the mean and standard deviation of each set of temperatures, can you say if your hypothesis is true?\n",
        "\n",
        "Compute the significance test for the average values of the day and night temperature distributions, then compute the associated p-value.\n",
        "\n",
        "Given this p value, how confident are you that your hypothesis is correct?"
      ]
    },
    {
      "cell_type": "code",
      "metadata": {
        "id": "nllsuFHjDRIP",
        "colab": {
          "base_uri": "https://localhost:8080/"
        },
        "outputId": "3871c692-2042-4455-be46-b7dc8e3f6d30"
      },
      "source": [
        "#Try here!\n",
        "\n",
        "st_compare = (meanday-meannight)/np.sqrt(stderrorday**2+stderrornight**2)\n",
        "\n",
        "p_valuecompare = 2*scipy.stats.norm.sf(abs(st_compare))\n",
        "\n",
        "print(p_valuecompare)\n"
      ],
      "execution_count": null,
      "outputs": [
        {
          "output_type": "stream",
          "text": [
            "0.25336490822407975\n"
          ],
          "name": "stdout"
        }
      ]
    },
    {
      "cell_type": "markdown",
      "metadata": {
        "id": "l1fQPHan9GOt"
      },
      "source": [
        "With a p-value of 0.25336, this is the probability that the difference between day and night is due to random chance. Because of this relatively high, I am not confident in my hypothesis that the night temperatures are significantly lower than day temperatures."
      ]
    },
    {
      "cell_type": "markdown",
      "metadata": {
        "id": "KQx6hPxrfTTl"
      },
      "source": [
        "#Bonus:\n",
        "\n",
        "Can you measure a change in *your* average body temperature during the day and at night? Make a histogram of both sets of measurements. How significant is this change?"
      ]
    },
    {
      "cell_type": "code",
      "metadata": {
        "id": "_OztOGVNfh8_"
      },
      "source": [
        "#Try it here!"
      ],
      "execution_count": null,
      "outputs": []
    },
    {
      "cell_type": "code",
      "metadata": {
        "id": "lziBMh6GhGsm"
      },
      "source": [
        ""
      ],
      "execution_count": null,
      "outputs": []
    }
  ]
}